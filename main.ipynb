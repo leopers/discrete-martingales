{
 "cells": [
  {
   "cell_type": "markdown",
   "id": "55a68854",
   "metadata": {},
   "source": [
    "# Discrete-Time Martingales\n",
    "\n",
    "This notebook explores the main ideas from the theory of **discrete-time martingales**\n",
    "\n",
    "We cover:\n",
    "\n",
    "1. Conditional Expectation  \n",
    "2. Martingales and Sub/Supermartingales  \n",
    "3. Optional Sampling Theorem  \n",
    "4. Martingale Convergence  \n",
    "5. Square-Integrable Martingales  \n",
    "6. Discrete-Time Stochastic Integrals  \n",
    "7. Doob's Maximal Inequality  "
   ]
  },
  {
   "cell_type": "markdown",
   "id": "d38c0835",
   "metadata": {},
   "source": [
    "## 1. Conditional Expectation\n",
    "\n",
    "Intuitively, the **conditional expectation** $E[Y \\mid \\mathcal{F}_{n}]$ is the “best” prediction of a random variable $Y$ given only the information available up to time $n$.\n",
    "\n",
    "---\n",
    "\n",
    "### Definition\n",
    "\n",
    "Let $(\\Omega,\\mathcal{F},P)$ be a probability space and \n",
    "$$\n",
    "\\mathcal{F}_n \\;\\subseteq\\;\\mathcal{F}\n",
    "$$ \n",
    "a σ-algebra (filtration) representing all information from random variables $X_1,\\dots,X_n$. Then $E[Y \\mid \\mathcal{F}_n]$ is the unique $\\mathcal{F}_n$-measurable random variable satisfying  \n",
    "$$\n",
    "E\\bigl[E[Y \\mid \\mathcal{F}_n]\\,1_A\\bigr] \\;=\\; E\\bigl[Y\\,1_A\\bigr]\n",
    "\\quad\n",
    "\\text{for every }A\\in\\mathcal{F}_n.\n",
    "$$\n",
    "\n",
    "---\n",
    "\n",
    "### Equivalent Density Definition\n",
    "\n",
    "If $(X,Y)$ has joint density $f(x,y)$ with marginals $f_X(x)=\\int f(x,y)\\,dy$, then  \n",
    "$$\n",
    "E[Y \\mid X=x]\n",
    "\\;=\\;\n",
    "\\int_{-\\infty}^{\\infty} y\\,\\frac{f(x,y)}{f_X(x)}\\,dy,\n",
    "$$  \n",
    "so that $E[Y\\mid X]$ is a random variable of $X$.\n",
    "\n",
    "---\n",
    "\n",
    "### Key Properties\n",
    "\n",
    "- **Measurability**:  \n",
    "  $E[Y \\mid \\mathcal{F}_n]$ is a function of $X_1,\\dots,X_n$.\n",
    "\n",
    "- **Zero‐information**:  \n",
    "  $E[Y \\mid \\mathcal{F}_0] = E[Y]$.\n",
    "\n",
    "- **Averaging (Law of Total Expectation)**:  \n",
    "  $E\\bigl[E[Y \\mid \\mathcal{F}_n]\\bigr] = E[Y]$.\n",
    "\n",
    "- **Linearity**:  \n",
    "  $E[aY + bZ \\mid \\mathcal{F}_n] = a\\,E[Y \\mid \\mathcal{F}_n] + b\\,E[Z \\mid \\mathcal{F}_n]$.\n",
    "\n",
    "- **Tower Property**:  \n",
    "  If $m<n$, then  \n",
    "  $E\\bigl[E[Y \\mid \\mathcal{F}_n]\\mid\\mathcal{F}_m\\bigr] = E[Y \\mid \\mathcal{F}_m]$.\n",
    "\n",
    "- **Taking out constants**:  \n",
    "  If $Z$ is $\\mathcal{F}_n$-measurable,  \n",
    "  $E[Z\\,Y \\mid \\mathcal{F}_n] = Z\\,E[Y \\mid \\mathcal{F}_n]$.\n",
    "\n",
    "- **Independence**:  \n",
    "  If $X_1,\\dots,X_n$ are independent of $Y$, then  \n",
    "  $E[Y \\mid \\mathcal{F}_n] = E[Y]$.\n",
    "\n",
    "---\n",
    "\n",
    "### Filtration\n",
    "\n",
    "A **discrete‐time filtration** $\\{\\mathcal{F}_n\\}_{n\\ge0}$ is an increasing sequence of σ-algebras, where $\\mathcal{F}_n$ captures all events determined by $X_1,\\dots,X_n$.  \n",
    "\n",
    "---\n",
    "\n",
    "### Simple Example\n",
    "\n",
    "For i.i.d. coin‐tosses $Z_i\\in\\{-1,+1\\}$ and $S_n=\\sum_{i=1}^n Z_i$, one shows  \n",
    "$$\n",
    "E\\bigl[S_{n+1}\\,\\bigm|\\,\\mathcal{F}_n\\bigr] = S_n,\n",
    "$$  \n",
    "so $(S_n)$ is itself a martingale.  "
   ]
  },
  {
   "cell_type": "code",
   "execution_count": 23,
   "id": "6d70f1f1",
   "metadata": {},
   "outputs": [],
   "source": [
    "import numpy as np\n",
    "import matplotlib.pyplot as plt\n",
    "import seaborn as sns\n",
    "\n",
    "from src.conditional_expectation import (\n",
    "    simulate_coin_tosses,\n",
    "    build_partial_sums,\n",
    "    estimate_conditional_expectation,\n",
    "    estimate_conditional_expectation_sums\n",
    ")\n",
    "\n",
    "sns.set_theme(style=\"whitegrid\")\n",
    "np.random.seed(42)"
   ]
  },
  {
   "cell_type": "code",
   "execution_count": null,
   "id": "04ea7570",
   "metadata": {},
   "outputs": [],
   "source": [
    "n_paths, n_steps = 2000, 8\n",
    "t = 3"
   ]
  },
  {
   "cell_type": "code",
   "execution_count": null,
   "id": "c6a6e1d2",
   "metadata": {},
   "outputs": [],
   "source": [
    "tosses = simulate_coin_tosses(n_paths=n_paths, n_steps=n_steps)\n",
    "S = build_partial_sums(tosses)\n",
    "\n",
    "hist_est = estimate_conditional_expectation(tosses, t)\n",
    "sum_est = estimate_conditional_expectation_sums(S, t)"
   ]
  },
  {
   "cell_type": "code",
   "execution_count": null,
   "id": "e51d6239",
   "metadata": {},
   "outputs": [
    {
     "name": "stdout",
     "output_type": "stream",
     "text": [
      "E[Z_{t+1} | history]  (first 5):\n",
      "  (np.int64(-1), np.int64(1), np.int64(-1), np.int64(-1)) → 0.080\n",
      "  (np.int64(1), np.int64(1), np.int64(1), np.int64(-1)) → 0.015\n",
      "  (np.int64(1), np.int64(1), np.int64(1), np.int64(1)) → 0.059\n",
      "  (np.int64(-1), np.int64(-1), np.int64(1), np.int64(1)) → 0.036\n",
      "  (np.int64(1), np.int64(1), np.int64(-1), np.int64(1)) → -0.092\n",
      "\n",
      "E[S_{t+1} | S_t] (sorted by S_t):\n",
      "  S_t = -4 → -3.927\n",
      "  S_t = -2 → -1.940\n",
      "  S_t =  0 → -0.010\n",
      "  S_t =  2 → 1.982\n",
      "  S_t =  4 → 4.059\n"
     ]
    }
   ],
   "source": [
    "print(\"E[Z_{t+1} | history]  (first 5):\")\n",
    "for i, (h, v) in enumerate(hist_est.items()):\n",
    "    print(f\"  {h} → {v:.3f}\")\n",
    "    if i == 4: break\n",
    "\n",
    "print(\"\\nE[S_{t+1} | S_t] (sorted by S_t):\")\n",
    "for s, v in sorted(sum_est.items()):\n",
    "    print(f\"  S_t = {s:2d} → {v:.3f}\")"
   ]
  },
  {
   "cell_type": "code",
   "execution_count": null,
   "id": "41758b07",
   "metadata": {},
   "outputs": [
    {
     "data": {
      "image/png": "[encoded data removed]",
      "text/plain": [
       "<Figure size 600x400 with 1 Axes>"
      ]
     },
     "metadata": {},
     "output_type": "display_data"
    }
   ],
   "source": [
    "x, y = zip(*sorted(sum_est.items()))\n",
    "\n",
    "plt.figure(figsize=(6,4))\n",
    "plt.plot(x, y, marker='o')\n",
    "plt.title(f\"Empirical $E[S_{{{t+1}}} | F_{{{t}}}]$ vs $S_{t}$\")\n",
    "plt.xlabel(f\"$F_{t}$\")\n",
    "plt.ylabel(f\"$E[S_{{{t+1}}} | F_{{{t}}}]$\")\n",
    "plt.grid(True)\n",
    "plt.show()"
   ]
  },
  {
   "cell_type": "markdown",
   "id": "efb3107e",
   "metadata": {},
   "source": [
    "## 2. Martingales\n",
    "\n",
    "A **martingale** models a “fair game” under a filtration $\\{\\mathcal{F}_n\\}$.  \n",
    "A process $(M_n)_{n\\ge0}$ is a martingale if:\n",
    "\n",
    "1. $M_n$ is $\\mathcal{F}_n$-measurable and $E[\\,|M_n|\\,]<\\infty$.\n",
    "2. **Martingale property**: for all $m < n$,\n",
    "   $$\n",
    "   E[M_n \\mid \\mathcal{F}_m] = M_m\n",
    "   $$\n",
    "   or equivalently,\n",
    "   $$\n",
    "   E[M_{n+1} - M_n \\mid \\mathcal{F}_n] = 0\n",
    "   $$\n",
    "\n",
    "---\n",
    "\n",
    "### Common Examples\n",
    "\n",
    "- **Symmetric random walk**  \n",
    "  Let $X_1, X_2, \\dots$ be i.i.d. with $E[X_j] = 0$, and define $S_n = \\sum_{j=1}^n X_j$. Then:\n",
    "  $$\n",
    "  E[S_{n+1} \\mid \\mathcal{F}_n] = S_n + E[X_{n+1} \\mid \\mathcal{F}_n] = S_n\n",
    "  $$\n",
    "  so $(S_n)$ is a martingale.\n",
    "\n",
    "- **Variance-corrected walk**  \n",
    "  If in addition $\\operatorname{Var}(X_j) = \\sigma_j^2$, then define:\n",
    "  $$\n",
    "  A_n = \\sum_{j=1}^n \\sigma_j^2, \\quad M_n = S_n^2 - A_n\n",
    "  $$\n",
    "  Then $(M_n)$ is a martingale: $E[M_{n+1} \\mid \\mathcal{F}_n] = M_n$.\n",
    "\n",
    "---\n",
    "\n",
    "### Discrete Stochastic Integral\n",
    "\n",
    "Let $(M_n)$ be a martingale, and let $\\{B_j\\}$ be a predictable sequence, i.e., each $B_j$ is $\\mathcal{F}_{j-1}$-measurable and bounded.  \n",
    "Define the stochastic integral:\n",
    "$$\n",
    "W_n = \\sum_{j=1}^n B_j (M_j - M_{j-1})\n",
    "$$\n",
    "Then $(W_n)$ is a martingale.\n",
    "\n",
    "This is because:\n",
    "$$\n",
    "E[W_{n+1} \\mid \\mathcal{F}_n] = E[W_n + B_{n+1}(M_{n+1} - M_n) \\mid \\mathcal{F}_n] = W_n\n",
    "$$\n",
    "\n",
    "---\n",
    "\n",
    "### Martingale Betting Paradox\n",
    "\n",
    "In the **double-or-nothing** betting strategy, we define $W_n$ such that with probability $1$ we eventually win:\n",
    "$$\n",
    "W_n = \\sum_{j=1}^n B_j X_j, \\quad \\text{where } B_j = 2^{j-1} \\text{ if we keep losing}\n",
    "$$\n",
    "Then $E[W_n] = 0$ for all $n$, but $W_\\infty = 1$ almost surely, so:\n",
    "$$\n",
    "E[W_\\infty] = 1 > 0 = E[W_0]\n",
    "$$\n",
    "This shows that optional stopping at an **unbounded** stopping time breaks the martingale fairness.\n",
    "\n",
    "---\n",
    "\n",
    "### Submartingales and Supermartingales\n",
    "\n",
    "- A process $(M_n)$ is a **submartingale** if:\n",
    "  $$\n",
    "  E[M_{n+1} \\mid \\mathcal{F}_n] \\ge M_n\n",
    "  $$\n",
    "\n",
    "- A process $(M_n)$ is a **supermartingale** if:\n",
    "  $$\n",
    "  E[M_{n+1} \\mid \\mathcal{F}_n] \\le M_n\n",
    "  $$\n",
    "\n",
    "- A martingale is both a submartingale and a supermartingale."
   ]
  },
  {
   "cell_type": "markdown",
   "id": "27770d44",
   "metadata": {},
   "source": [
    "---\n",
    "\n",
    "We simulate the classic **martingale doubling strategy** on a fair coin:\n",
    "- At time 1, bet \\$1.\n",
    "- If you lose, double the bet on the next toss: \\$2, \\$4, \\$8, etc.\n",
    "- Stop betting once you win.\n",
    "\n",
    "Let:\n",
    "- $X_j \\in \\{-1, +1\\}$ be the coin toss outcome.\n",
    "- $B_j$ be the bet at time $j$, predictable and $\\mathcal{F}_{j-1}$-measurable.\n",
    "- $W_n = \\sum_{j=1}^n B_j X_j$ be the cumulative winnings.\n",
    "\n",
    "This is a **stochastic integral**:\n",
    "\\[\n",
    "W_n = \\sum_{j=1}^n B_j (M_j - M_{j-1}), \\quad \\text{where } M_j = \\sum_{i=1}^j X_i\n",
    "\\]\n",
    "\n",
    "If $M_n$ is a martingale and $B_j$ is predictable and bounded, then $W_n$ is also a martingale."
   ]
  },
  {
   "cell_type": "code",
   "execution_count": 24,
   "id": "43aa7d6c",
   "metadata": {},
   "outputs": [],
   "source": [
    "from src.martingales import (\n",
    "    simulate_martingale_betting_strategy,\n",
    "    check_martingale_property_by_time\n",
    ")\n",
    "\n",
    "# Parameters\n",
    "n_paths = 1000\n",
    "n_steps = 20\n",
    "seed = 42"
   ]
  },
  {
   "cell_type": "code",
   "execution_count": 25,
   "id": "aaf6f5c0",
   "metadata": {},
   "outputs": [],
   "source": [
    "X, B, W = simulate_martingale_betting_strategy(n_paths=n_paths, n_steps=n_steps, seed=seed)\n",
    "diffs = check_martingale_property_by_time(W)"
   ]
  },
  {
   "cell_type": "code",
   "execution_count": 26,
   "id": "13a59e70",
   "metadata": {},
   "outputs": [
    {
     "name": "stdout",
     "output_type": "stream",
     "text": [
      "Global E[W_{t+1}] ≈ E[W_t] check at each time step:\n",
      "  t =  0 → ❌\n",
      "  t =  1 → ❌\n",
      "  t =  2 → ❌\n",
      "  t =  3 → ❌\n",
      "  t =  4 → ✔️\n",
      "  t =  5 → ✔️\n",
      "  t =  6 → ✔️\n",
      "  t =  7 → ❌\n",
      "  t =  8 → ❌\n",
      "  t =  9 → ❌\n",
      "  t = 10 → ✔️\n",
      "  t = 11 → ✔️\n",
      "  t = 12 → ✔️\n",
      "  t = 13 → ✔️\n",
      "  t = 14 → ✔️\n",
      "  t = 15 → ✔️\n",
      "  t = 16 → ✔️\n",
      "  t = 17 → ✔️\n",
      "  t = 18 → ✔️\n",
      "\n",
      "Martingale by global means? False\n"
     ]
    }
   ],
   "source": [
    "print(\"Global E[W_{t+1}] ≈ E[W_t] check at each time step:\")\n",
    "for t, ok in enumerate(diffs):\n",
    "    print(f\"  t = {t:2d} → {'✔️' if ok else '❌'}\")\n",
    "\n",
    "print(\"\\nMartingale by global means?\", all(diffs))"
   ]
  },
  {
   "cell_type": "code",
   "execution_count": 30,
   "id": "663846f9",
   "metadata": {},
   "outputs": [
    {
     "data": {
      "image/png": "[encoded data removed]",
      "text/plain": [
       "<Figure size 1000x400 with 1 Axes>"
      ]
     },
     "metadata": {},
     "output_type": "display_data"
    }
   ],
   "source": [
    "import matplotlib.pyplot as plt\n",
    "\n",
    "# Plot a few sample paths of winnings W_n\n",
    "plt.figure(figsize=(10, 4))\n",
    "for i in range(5):\n",
    "    plt.plot(W[i], label=f\"Path {i+1}\")\n",
    "plt.axhline(y=0, color='black', linestyle='--', linewidth=1)\n",
    "plt.title(\"Martingale Betting Strategy: Sample Winnings $W_n$\")\n",
    "plt.xlabel(\"Time $n$\")\n",
    "plt.ylabel(\"Cumulative Winnings $W_n$\")\n",
    "plt.grid(True)\n",
    "plt.legend()\n",
    "plt.show()"
   ]
  },
  {
   "cell_type": "code",
   "execution_count": null,
   "id": "39724370",
   "metadata": {},
   "outputs": [],
   "source": []
  }
 ],
 "metadata": {
  "kernelspec": {
   "display_name": ".venv",
   "language": "python",
   "name": "python3"
  },
  "language_info": {
   "codemirror_mode": {
    "name": "ipython",
    "version": 3
   },
   "file_extension": ".py",
   "mimetype": "text/x-python",
   "name": "python",
   "nbconvert_exporter": "python",
   "pygments_lexer": "ipython3",
   "version": "3.13.5"
  }
 },
 "nbformat": 4,
 "nbformat_minor": 5
}
