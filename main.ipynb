{
 "cells": [
  {
   "cell_type": "markdown",
   "id": "55a68854",
   "metadata": {},
   "source": [
    "# Discrete-Time Martingales\n",
    "\n",
    "This notebook explores the main ideas from the theory of **discrete-time martingales**\n",
    "\n",
    "We cover:\n",
    "\n",
    "1. Conditional Expectation  \n",
    "2. Martingales and Sub/Supermartingales  \n",
    "3. Optional Sampling Theorem  \n",
    "4. Martingale Convergence  \n",
    "5. Square-Integrable Martingales  \n",
    "6. Discrete-Time Stochastic Integrals  \n",
    "7. Doob's Maximal Inequality  "
   ]
  },
  {
   "cell_type": "markdown",
   "id": "d38c0835",
   "metadata": {},
   "source": [
    "## 1. Conditional Expectation\n",
    "\n",
    "Intuitively, the **conditional expectation** $E[Y \\mid \\mathcal{F}_{n}]$ is the “best” prediction of a random variable $Y$ given only the information available up to time $n$.\n",
    "\n",
    "---\n",
    "\n",
    "### Definition\n",
    "\n",
    "Let $(\\Omega,\\mathcal{F},P)$ be a probability space and \n",
    "$$\n",
    "\\mathcal{F}_n \\;\\subseteq\\;\\mathcal{F}\n",
    "$$ \n",
    "a σ-algebra (filtration) representing all information from random variables $X_1,\\dots,X_n$. Then $E[Y \\mid \\mathcal{F}_n]$ is the unique $\\mathcal{F}_n$-measurable random variable satisfying  \n",
    "$$\n",
    "E\\bigl[E[Y \\mid \\mathcal{F}_n]\\,1_A\\bigr] \\;=\\; E\\bigl[Y\\,1_A\\bigr]\n",
    "\\quad\n",
    "\\text{for every }A\\in\\mathcal{F}_n.\n",
    "$$\n",
    "\n",
    "---\n",
    "\n",
    "### Equivalent Density Definition\n",
    "\n",
    "If $(X,Y)$ has joint density $f(x,y)$ with marginals $f_X(x)=\\int f(x,y)\\,dy$, then  \n",
    "$$\n",
    "E[Y \\mid X=x]\n",
    "\\;=\\;\n",
    "\\int_{-\\infty}^{\\infty} y\\,\\frac{f(x,y)}{f_X(x)}\\,dy,\n",
    "$$  \n",
    "so that $E[Y\\mid X]$ is a random variable of $X$.\n",
    "\n",
    "---\n",
    "\n",
    "### Key Properties\n",
    "\n",
    "- **Measurability**:  \n",
    "  $E[Y \\mid \\mathcal{F}_n]$ is a function of $X_1,\\dots,X_n$.\n",
    "\n",
    "- **Zero‐information**:  \n",
    "  $E[Y \\mid \\mathcal{F}_0] = E[Y]$.\n",
    "\n",
    "- **Averaging (Law of Total Expectation)**:  \n",
    "  $E\\bigl[E[Y \\mid \\mathcal{F}_n]\\bigr] = E[Y]$.\n",
    "\n",
    "- **Linearity**:  \n",
    "  $E[aY + bZ \\mid \\mathcal{F}_n] = a\\,E[Y \\mid \\mathcal{F}_n] + b\\,E[Z \\mid \\mathcal{F}_n]$.\n",
    "\n",
    "- **Tower Property**:  \n",
    "  If $m<n$, then  \n",
    "  $E\\bigl[E[Y \\mid \\mathcal{F}_n]\\mid\\mathcal{F}_m\\bigr] = E[Y \\mid \\mathcal{F}_m]$.\n",
    "\n",
    "- **Taking out constants**:  \n",
    "  If $Z$ is $\\mathcal{F}_n$-measurable,  \n",
    "  $E[Z\\,Y \\mid \\mathcal{F}_n] = Z\\,E[Y \\mid \\mathcal{F}_n]$.\n",
    "\n",
    "- **Independence**:  \n",
    "  If $X_1,\\dots,X_n$ are independent of $Y$, then  \n",
    "  $E[Y \\mid \\mathcal{F}_n] = E[Y]$.\n",
    "\n",
    "---\n",
    "\n",
    "### Filtration\n",
    "\n",
    "A **discrete‐time filtration** $\\{\\mathcal{F}_n\\}_{n\\ge0}$ is an increasing sequence of σ-algebras, where $\\mathcal{F}_n$ captures all events determined by $X_1,\\dots,X_n$.  \n",
    "\n",
    "---\n",
    "\n",
    "### Simple Example\n",
    "\n",
    "For i.i.d. coin‐tosses $Z_i\\in\\{-1,+1\\}$ and $S_n=\\sum_{i=1}^n Z_i$, one shows  \n",
    "$$\n",
    "E\\bigl[S_{n+1}\\,\\bigm|\\,\\mathcal{F}_n\\bigr] = S_n,\n",
    "$$  \n",
    "so $(S_n)$ is itself a martingale.  "
   ]
  },
  {
   "cell_type": "code",
   "execution_count": 1,
   "id": "6d70f1f1",
   "metadata": {},
   "outputs": [],
   "source": [
    "import numpy as np\n",
    "import matplotlib.pyplot as plt\n",
    "import seaborn as sns\n",
    "\n",
    "from src.conditional_expectation import (\n",
    "    simulate_coin_tosses,\n",
    "    build_partial_sums,\n",
    "    estimate_conditional_expectation,\n",
    "    estimate_conditional_expectation_sums\n",
    ")\n",
    "\n",
    "sns.set_theme(style=\"whitegrid\")\n",
    "np.random.seed(42)"
   ]
  },
  {
   "cell_type": "code",
   "execution_count": 2,
   "id": "04ea7570",
   "metadata": {},
   "outputs": [],
   "source": [
    "n_paths, n_steps = 2000, 8\n",
    "t = 3"
   ]
  },
  {
   "cell_type": "code",
   "execution_count": 6,
   "id": "c6a6e1d2",
   "metadata": {},
   "outputs": [],
   "source": [
    "tosses = simulate_coin_tosses(n_paths=n_paths, n_steps=n_steps)\n",
    "S = build_partial_sums(tosses)\n",
    "\n",
    "hist_est = estimate_conditional_expectation(tosses, t)\n",
    "sum_est = estimate_conditional_expectation_sums(S, t)"
   ]
  },
  {
   "cell_type": "code",
   "execution_count": 7,
   "id": "e51d6239",
   "metadata": {},
   "outputs": [
    {
     "name": "stdout",
     "output_type": "stream",
     "text": [
      "E[Z_{t+1} | history]  (first 5):\n",
      "  (np.int64(1), np.int64(1), np.int64(1), np.int64(-1)) → 0.015\n",
      "  (np.int64(-1), np.int64(-1), np.int64(1), np.int64(1)) → -0.055\n",
      "  (np.int64(1), np.int64(-1), np.int64(-1), np.int64(1)) → -0.048\n",
      "  (np.int64(-1), np.int64(1), np.int64(-1), np.int64(1)) → -0.056\n",
      "  (np.int64(1), np.int64(1), np.int64(-1), np.int64(1)) → -0.029\n",
      "\n",
      "E[S_{t+1} | S_t] (sorted by S_t):\n",
      "  S_t = -4 → -4.109\n",
      "  S_t = -2 → -1.962\n",
      "  S_t =  0 → -0.023\n",
      "  S_t =  2 → 2.036\n",
      "  S_t =  4 → 4.157\n"
     ]
    }
   ],
   "source": [
    "print(\"E[Z_{t+1} | history]  (first 5):\")\n",
    "for i, (h, v) in enumerate(hist_est.items()):\n",
    "    print(f\"  {h} → {v:.3f}\")\n",
    "    if i == 4: break\n",
    "\n",
    "print(\"\\nE[S_{t+1} | S_t] (sorted by S_t):\")\n",
    "for s, v in sorted(sum_est.items()):\n",
    "    print(f\"  S_t = {s:2d} → {v:.3f}\")"
   ]
  },
  {
   "cell_type": "code",
   "execution_count": 11,
   "id": "41758b07",
   "metadata": {},
   "outputs": [
    {
     "data": {
      "image/png": "[encoded data removed]",
      "text/plain": [
       "<Figure size 600x400 with 1 Axes>"
      ]
     },
     "metadata": {},
     "output_type": "display_data"
    }
   ],
   "source": [
    "x, y = zip(*sorted(sum_est.items()))\n",
    "\n",
    "plt.figure(figsize=(6,4))\n",
    "plt.plot(x, y, marker='o')\n",
    "plt.title(f\"Empirical $E[S_{{{t+1}}} | F_{{{t}}}]$ vs $S_{t}$\")\n",
    "plt.xlabel(f\"$F_{t}$\")\n",
    "plt.ylabel(f\"$E[S_{{{t+1}}} | F_{{{t}}}]$\")\n",
    "plt.grid(True)\n",
    "plt.show()"
   ]
  }
 ],
 "metadata": {
  "kernelspec": {
   "display_name": ".venv",
   "language": "python",
   "name": "python3"
  },
  "language_info": {
   "codemirror_mode": {
    "name": "ipython",
    "version": 3
   },
   "file_extension": ".py",
   "mimetype": "text/x-python",
   "name": "python",
   "nbconvert_exporter": "python",
   "pygments_lexer": "ipython3",
   "version": "3.13.5"
  }
 },
 "nbformat": 4,
 "nbformat_minor": 5
}
